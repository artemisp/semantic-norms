{
 "cells": [
  {
   "cell_type": "code",
   "execution_count": 1,
   "metadata": {},
   "outputs": [],
   "source": [
    "import pickle\n",
    "import sys\n",
    "from tqdm import tqdm\n",
    "import numpy as np\n",
    "sys.path.insert(1, '../../')\n",
    "import eval\n",
    "import numpy as np"
   ]
  },
  {
   "cell_type": "code",
   "execution_count": null,
   "metadata": {},
   "outputs": [],
   "source": [
    "DATASET = \"concept_properties\" # \"feature_norms\", \"memory_colors\""
   ]
  },
  {
   "cell_type": "code",
   "execution_count": 2,
   "metadata": {},
   "outputs": [],
   "source": [
    "noun2prop = pickle.load(open(f\"../data/datasets/{DATASET}/noun2property/noun2prop.p\", \"rb\"))\n",
    "gpt3_predicts = pickle.load(open(f\"../data/datasets/{DATASET}/GPT3/gpt3_predicts.txt\", \"rb\"))\n",
    "roberta_predicts = pickle.load(open(f\"../output/output_{DATASET}/roberta-large+singular_generally.p\", \"rb\"))\n",
    "bert_predicts = pickle.load(open(f\"../output/output_{DATASET}/bert-large-uncased+plural_most.p\", \"rb\"))\n",
    "vilt_predicts = pickle.load(open(f\"../output/output_{DATASET}/vilt+plural+10.p\", \"rb\"))\n",
    "clip_predicts = pickle.load(open(f\"../data/datasets/{DATASET}/CLIP/clip_scores.p\", \"rb\"))\n",
    "combined_predicts = pickle.load(open(f\"../data/datasets/{DATASET}/CEM/combine_scores.p\", \"rb\"))\n",
    "gpt_predicts = pickle.load(open(f\"../output/output_{DATASET}/gpt2-large+plural_most.p\", \"rb\"))"
   ]
  },
  {
   "cell_type": "code",
   "execution_count": 16,
   "metadata": {},
   "outputs": [],
   "source": [
    "candidate_adjs = []\n",
    "for noun, props in noun2prop.items():\n",
    "    candidate_adjs += props\n",
    "candidate_adjs = list(set(candidate_adjs))"
   ]
  },
  {
   "cell_type": "code",
   "execution_count": 17,
   "metadata": {},
   "outputs": [],
   "source": [
    "CSLB_data = pickle.load(open(\"../data/datasets/concept_properties/raw_data/CSLB_data.p\", \"rb\"))\n",
    "prop2type = {}\n",
    "for data in CSLB_data:\n",
    "    if data[-2].lower() not in prop2type:\n",
    "        prop2type[data[-2].lower()] = data[1]\n",
    "all_types = ['visual perceptual', 'other perceptual', 'functional', 'encyclopaedic']"
   ]
  },
  {
   "cell_type": "code",
   "execution_count": 18,
   "metadata": {},
   "outputs": [
    {
     "name": "stderr",
     "output_type": "stream",
     "text": [
      "100%|██████████| 400/400 [00:37<00:00, 10.78it/s]\n"
     ]
    }
   ],
   "source": [
    "from difflib import SequenceMatcher\n",
    "def similar(a, b):\n",
    "    return SequenceMatcher(None, a, b).ratio()\n",
    "\n",
    "concreteness = {w: c / 5 for w, c in pickle.load(open(\"../data/concreteness/word2concreteness.M.p\", \"rb\")).items()}\n",
    "all_words = list(concreteness.keys())\n",
    "prop2concretness = {}\n",
    "for prop in tqdm(candidate_adjs):\n",
    "    if prop in concreteness:\n",
    "        prop2concretness[prop] = concreteness[prop]\n",
    "    else:\n",
    "        sims = []\n",
    "        for word in all_words:\n",
    "            sims.append((word, similar(word, prop)))\n",
    "        sims.sort(key=lambda x: x[1], reverse=True)\n",
    "        prop2concretness[prop] = concreteness[sims[0][0]]"
   ]
  },
  {
   "cell_type": "code",
   "execution_count": 19,
   "metadata": {},
   "outputs": [
    {
     "name": "stdout",
     "output_type": "stream",
     "text": [
      "MRR: 0.11284123034399857\n",
      "Median rank: 41.0\n",
      "Mean rank: 77.58900326387145\n",
      "\n",
      "MRR: 0.13518479911329614\n",
      "Median rank: 24.0\n",
      "Mean rank: 54.754707506904346\n",
      "\n",
      "MRR: 0.1214987405551722\n",
      "Median rank: 30.0\n",
      "Mean rank: 64.54707506904343\n",
      "\n",
      "MRR: 0.13449001177928058\n",
      "Median rank: 26.0\n",
      "Mean rank: 61.740898819984935\n",
      "\n",
      "MRR: 0.11671619553468152\n",
      "Median rank: 43.0\n",
      "Mean rank: 86.37634948531257\n",
      "\n",
      "MRR: 0.16888029942436483\n",
      "Median rank: 20.0\n",
      "Mean rank: 54.75069043434597\n",
      "\n"
     ]
    }
   ],
   "source": [
    "clip_ranks = eval.evaluate_rank(clip_predicts, noun2prop, True)[0]\n",
    "roberta_ranks = eval.evaluate_rank(roberta_predicts, noun2prop, True)[0]\n",
    "bert_ranks = eval.evaluate_rank(bert_predicts, noun2prop, True)[0]\n",
    "gpt_ranks = eval.evaluate_rank(gpt_predicts, noun2prop, True)[0]\n",
    "vilt_ranks = eval.evaluate_rank(vilt_predicts, noun2prop, True)[0]\n",
    "combine_ranks = eval.evaluate_rank(combined_predicts, noun2prop, True)[0]"
   ]
  },
  {
   "cell_type": "code",
   "execution_count": 82,
   "metadata": {},
   "outputs": [],
   "source": [
    "prop2differs = {prop: [] for prop in candidate_adjs}\n",
    "for i in range(len(combine_ranks)):\n",
    "    prop, c_rank = combine_ranks[i]\n",
    "    _, r_rank = roberta_ranks[i]\n",
    "    prop2differs[prop].append(r_rank - c_rank)\n",
    "\n",
    "points = []\n",
    "for prop, scores in prop2differs.items():\n",
    "    points.append((prop2concretness[prop], np.max(scores)))\n",
    "\n",
    "points.sort(key=lambda x: x[0])"
   ]
  },
  {
   "cell_type": "code",
   "execution_count": 114,
   "metadata": {},
   "outputs": [
    {
     "data": {
      "image/png": "[encoded data removed]",
      "text/plain": [
       "<Figure size 504x288 with 1 Axes>"
      ]
     },
     "metadata": {
      "needs_background": "light"
     },
     "output_type": "display_data"
    }
   ],
   "source": [
    "import math\n",
    "import statistics\n",
    "x = []\n",
    "y = []\n",
    "gap = 40\n",
    "for i in range(len(points) // gap):\n",
    "    current_points = points[i * gap : (i + 1) * gap]\n",
    "    batch_xs = [b[0] for b in current_points]\n",
    "    batch_ys = [b[1] for b in current_points]\n",
    "    x.append(np.mean(batch_xs))\n",
    "    y.append(np.mean(batch_ys))\n",
    "x = np.array(x)\n",
    "y = np.array(y)\n",
    "m, b = np.polyfit(x, y, 1)\n",
    "\n",
    "import numpy as np\n",
    "import matplotlib.pyplot as plt\n",
    "import matplotlib\n",
    "matplotlib.rcParams['text.usetex'] = True\n",
    "plt.rcParams[\"figure.figsize\"] = (7,4)\n",
    "plt.rcParams[\"font.family\"] = \"Times New Roman\"\n",
    "\n",
    "plt.plot(x, m*x + b, color = 'gray', linestyle = 'dotted')\n",
    "plt.scatter(x, y, marker='D', alpha=0.9, color='gray', edgecolors='black')\n",
    "plt.xlabel(\"Concreteness Score\", fontsize=16)\n",
    "plt.ylabel(\"Average Rank Improved\", fontsize=16)\n",
    "plt.xticks(fontsize=12)\n",
    "plt.yticks(fontsize=12)\n",
    "# plt.ylim(20, 120)\n",
    "# plt.xlim(0.3, 1.0)\n",
    "plt.savefig('CSLB_concretness_vs_rank.pdf', format='pdf', dpi=600, bbox_inches='tight')\n",
    "plt.show()"
   ]
  },
  {
   "cell_type": "code",
   "execution_count": 94,
   "metadata": {},
   "outputs": [
    {
     "data": {
      "image/png": "[encoded data removed]",
      "text/plain": [
       "<Figure size 504x288 with 1 Axes>"
      ]
     },
     "metadata": {
      "needs_background": "light"
     },
     "output_type": "display_data"
    }
   ],
   "source": [
    "import math\n",
    "import statistics\n",
    "x = []\n",
    "y = []\n",
    "e = []\n",
    "for i in range(4, 22):\n",
    "    thres_low = (i - 1) * 0.07\n",
    "    thres_high = (i + 1) * 0.07\n",
    "    batch = []\n",
    "    for point in points:\n",
    "        if thres_low < point[0] < thres_high:\n",
    "            batch.append(point)\n",
    "    if batch == []:\n",
    "        continue\n",
    "    batch_xs = [b[0] for b in batch]\n",
    "    batch_ys = [b[1] for b in batch]\n",
    "    x.append(np.mean(batch_xs))\n",
    "    y.append(np.mean(batch_ys))\n",
    "    # e.append(math.sqrt(np.std(batch_ys)))\n",
    "    # e.append(statistics.stdev(batch_ys))\n",
    "\n",
    "import numpy as np\n",
    "import matplotlib.pyplot as plt\n",
    "import matplotlib\n",
    "matplotlib.rcParams['text.usetex'] = True\n",
    "plt.rcParams[\"figure.figsize\"] = (7,4)\n",
    "plt.rcParams[\"font.family\"] = \"Times New Roman\"\n",
    "\n",
    "\n",
    "plt.scatter(x, y, marker='D', alpha=0.9, color='gray', edgecolors='black')\n",
    "plt.xlabel(\"Concreteness Score\", fontsize=14)\n",
    "plt.ylabel(\"Average Rank Improved\", fontsize=14)\n",
    "plt.ylim(20, 120)\n",
    "plt.xlim(0.3, 1.0)\n",
    "plt.savefig('CSLB_concretness_vs_rank.pdf', format='pdf', dpi=600, bbox_inches='tight')\n",
    "plt.show()"
   ]
  },
  {
   "cell_type": "code",
   "execution_count": 25,
   "metadata": {},
   "outputs": [],
   "source": [
    "type2props = {prop_type: set() for prop_type in all_types}\n",
    "for adj in candidate_adjs:\n",
    "    try:\n",
    "        type2props[prop2type[adj]].add(adj)\n",
    "    except:\n",
    "        continue"
   ]
  },
  {
   "cell_type": "code",
   "execution_count": 26,
   "metadata": {},
   "outputs": [
    {
     "name": "stdout",
     "output_type": "stream",
     "text": [
      "visual perceptual 94\n",
      "other perceptual 75\n",
      "functional 28\n",
      "encyclopaedic 177\n"
     ]
    }
   ],
   "source": [
    "for type, props in type2props.items():\n",
    "    print(type, len(props))"
   ]
  },
  {
   "cell_type": "code",
   "execution_count": 27,
   "metadata": {},
   "outputs": [],
   "source": [
    "def get_mrr_each_type(ranks):\n",
    "    type2rrs = {prop_type: [] for prop_type in all_types}\n",
    "    for prop, rank in ranks:\n",
    "        if prop2type[prop] in all_types:\n",
    "            type2rrs[prop2type[prop]].append(1 / rank)\n",
    "    return {prop_type: np.mean(np.sort(rrs)) for prop_type, rrs in type2rrs.items()}"
   ]
  },
  {
   "cell_type": "code",
   "execution_count": 28,
   "metadata": {},
   "outputs": [],
   "source": [
    "roberta_results = get_mrr_each_type(roberta_ranks)\n",
    "bert_results = get_mrr_each_type(bert_ranks)\n",
    "clip_results = get_mrr_each_type(clip_ranks)\n",
    "gpt_results = get_mrr_each_type(gpt_ranks)\n",
    "vilt_results = get_mrr_each_type(vilt_ranks)\n",
    "combine_results = get_mrr_each_type(combine_ranks)"
   ]
  },
  {
   "cell_type": "code",
   "execution_count": 32,
   "metadata": {},
   "outputs": [
    {
     "data": {
      "image/png": "[encoded data removed]",
      "text/plain": [
       "<Figure size 432x216 with 1 Axes>"
      ]
     },
     "metadata": {
      "needs_background": "light"
     },
     "output_type": "display_data"
    }
   ],
   "source": [
    "import matplotlib.pyplot as plt\n",
    "import numpy as np\n",
    "\n",
    "plt.rcParams[\"figure.figsize\"] = (6,3)\n",
    "# create data\n",
    "x = 2 * np.arange(4)\n",
    "y1 = list(gpt_results.values())\n",
    "y2 = list(combine_results.values())\n",
    "width = 0.4\n",
    "  \n",
    "# plot data in grouped manner of bar type\n",
    "plt.bar(x-0.2, y1, width, color='gray')\n",
    "plt.bar(x+0.2, y2, width, color='green')\n",
    "\n",
    "plt.xticks(x, all_types)\n",
    "plt.xlabel(\"Feature Types\")\n",
    "plt.ylabel(\"MRR\")\n",
    "plt.legend([\"Roberta\", \"CEM\"])\n",
    "plt.savefig('distribution.png', format='png', dpi=600, bbox_inches='tight')\n",
    "plt.show()"
   ]
  }
 ],
 "metadata": {
  "interpreter": {
   "hash": "31f2aee4e71d21fbe5cf8b01ff0e069b9275f58929596ceb00d14d90e3e16cd6"
  },
  "kernelspec": {
   "display_name": "Python 3.6.15 64-bit",
   "language": "python",
   "name": "python3"
  },
  "language_info": {
   "codemirror_mode": {
    "name": "ipython",
    "version": 3
   },
   "file_extension": ".py",
   "mimetype": "text/x-python",
   "name": "python",
   "nbconvert_exporter": "python",
   "pygments_lexer": "ipython3",
   "version": "3.6.15"
  },
  "orig_nbformat": 4
 },
 "nbformat": 4,
 "nbformat_minor": 2
}
