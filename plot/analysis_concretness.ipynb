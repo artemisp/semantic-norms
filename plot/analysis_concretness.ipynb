{
 "cells": [
  {
   "cell_type": "code",
   "execution_count": 1,
   "metadata": {},
   "outputs": [],
   "source": [
    "import pickle\n",
    "import sys\n",
    "from tqdm import tqdm\n",
    "import numpy as np\n",
    "sys.path.append('..')\n",
    "import eval\n",
    "import numpy as np\n",
    "import random"
   ]
  },
  {
   "cell_type": "code",
   "execution_count": 2,
   "metadata": {},
   "outputs": [],
   "source": [
    "DATASET = \"feature_norms\" # \"feature_norms\", \"memory_colors\""
   ]
  },
  {
   "cell_type": "code",
   "execution_count": 4,
   "metadata": {},
   "outputs": [
    {
     "name": "stderr",
     "output_type": "stream",
     "text": [
      "100%|██████████| 209/209 [00:11<00:00, 18.05it/s]\n"
     ]
    }
   ],
   "source": [
    "noun2prop = pickle.load(open(f\"../data/datasets/{DATASET}/noun2property/noun2prop.p\", \"rb\"))\n",
    "gpt3_predicts = {line.split()[0]:line.split()[1:] for line in open(f\"../data/datasets/{DATASET}/GPT3/gpt3_predicts.txt\", \"r\").readlines()}\n",
    "roberta_predicts = pickle.load(open(f\"../output/output_{DATASET}/roberta-large+singular_generally.p\", \"rb\"))\n",
    "bert_predicts = pickle.load(open(f\"../output/output_{DATASET}/bert-large-uncased+plural_most.p\", \"rb\"))\n",
    "clip_predicts = pickle.load(open(f\"../output/output_{DATASET}/clip_scores.p\", \"rb\"))\n",
    "combined_predicts = pickle.load(open(f\"../data/datasets/{DATASET}/CEM/combine_scores.p\", \"rb\"))\n",
    "vilt_predicts = pickle.load(open(f'../output/output_{DATASET}/vilt+plural+10.p', \"rb\"))\n",
    "gpt_predicts = pickle.load(open(f\"../output/output_{DATASET}/gpt2-large+plural_most.p\", \"rb\"))\n",
    "pred_combined_predicts = pickle.load(open(f\"../output/output_{DATASET}/pred_combined_scores.p\", \"rb\"))\n",
    "candidate_adjs = []\n",
    "for noun, props in noun2prop.items():\n",
    "    candidate_adjs += props\n",
    "candidate_adjs = list(set(candidate_adjs))\n",
    "\n",
    "from difflib import SequenceMatcher\n",
    "def similar(a, b):\n",
    "    return SequenceMatcher(None, a, b).ratio()\n",
    "    \n",
    "concreteness = {w: c / 5 for w, c in pickle.load(open(\"../data/concreteness/word2concreteness.M.p\", \"rb\")).items()}\n",
    "all_words = list(concreteness.keys())\n",
    "prop2concretness = {}\n",
    "for prop in tqdm(candidate_adjs):\n",
    "    if prop in concreteness:\n",
    "        prop2concretness[prop] = concreteness[prop]\n",
    "    else:\n",
    "        sims = []\n",
    "        for word in all_words:\n",
    "            sims.append((word, similar(word, prop)))\n",
    "        sims.sort(key=lambda x: x[1], reverse=True)\n",
    "        prop2concretness[prop] = concreteness[sims[0][0]]"
   ]
  },
  {
   "cell_type": "code",
   "execution_count": 5,
   "metadata": {},
   "outputs": [],
   "source": [
    "for noun,prop in clip_predicts.items():\n",
    "    clip_predicts[noun] = [p[0] for p in prop]"
   ]
  },
  {
   "cell_type": "code",
   "execution_count": 6,
   "metadata": {},
   "outputs": [],
   "source": [
    "noun2prop_most_concrete = {}\n",
    "noun2prop_least_concrete = {}\n",
    "noun2prop_random_concrete = [{} for _ in range(10)]\n",
    "for noun, props in noun2prop.items():\n",
    "    prop_w_concretness = [(prop, prop2concretness[prop]) for prop in props]\n",
    "    prop_w_concretness.sort(key=lambda x: x[1])\n",
    "    noun2prop_most_concrete[noun] = [prop_w_concretness[-1][0]]\n",
    "    noun2prop_least_concrete[noun] = [prop_w_concretness[0][0]]\n",
    "    # noun2prop_random_concrete[noun] = [random.choice(props)]"
   ]
  },
  {
   "cell_type": "code",
   "execution_count": 7,
   "metadata": {},
   "outputs": [],
   "source": [
    "for i in range(10):\n",
    "    for noun, props in noun2prop.items():\n",
    "        noun2prop_random_concrete[i][noun] = [random.choice(props)]"
   ]
  },
  {
   "cell_type": "code",
   "execution_count": 8,
   "metadata": {},
   "outputs": [
    {
     "name": "stdout",
     "output_type": "stream",
     "text": [
      "top1 acc:  0.0825147347740668\n",
      "top1 acc:  0.08447937131630648\n",
      "top1 acc:  0.060903732809430254\n",
      "top1 acc:  0.09430255402750491\n",
      "top1 acc:  0.07269155206286837\n",
      "top1 acc:  0.09233791748526522\n",
      "top1 acc:  0.17485265225933203\n",
      "top1 acc:  0.11394891944990176\n",
      "top1 acc:  0.19646365422396855\n",
      "top1 acc:  0.03929273084479371\n",
      "top1 acc:  0.1237721021611002\n",
      "top1 acc:  0.07072691552062868\n",
      "top1 acc:  0.1807465618860511\n",
      "top1 acc:  0.11787819253438114\n",
      "top1 acc:  0.19646365422396855\n",
      "top1 acc:  0.13555992141453832\n"
     ]
    }
   ],
   "source": [
    "ys = {}\n",
    "err = {}\n",
    "for model, noun2predicts in {\"BERT\": bert_predicts, \"RoBERTa\": roberta_predicts, \"GPT2\": gpt_predicts, \"GPT3\": gpt3_predicts, \"ViLT\": vilt_predicts, \"CLIP\": clip_predicts, \"CEM-Gold\": combined_predicts, 'CEM-Pred': pred_combined_predicts}.items():\n",
    "    ys[model] = []\n",
    "    noun2props = [noun2prop_most_concrete, noun2prop_least_concrete, noun2prop_random_concrete]\n",
    "    for i in range(3):\n",
    "        noun2prop_test = noun2props[i]\n",
    "        for k in [1]:\n",
    "            if i == 2:\n",
    "                values = []\n",
    "                for j in range(10):\n",
    "                    values.append(eval.evaluate_acc(noun2predicts, noun2prop_test[j], k, False)*100)\n",
    "                ys[model].append(np.mean(values))\n",
    "                err[model] = np.std(values)\n",
    "            else:\n",
    "                ys[model].append(eval.evaluate_acc(noun2predicts, noun2prop_test, k, True)*100)\n",
    "\n",
    "# for k in [1, 5, 10]:\n",
    "#     eval.evaluate_precision(noun2predicts, noun2prop_test, k, True)\n",
    "\n",
    "# for k in [1, 5, 10]:\n",
    "#     eval.evaluate_recall(noun2predicts, noun2prop_test, k, True)"
   ]
  },
  {
   "cell_type": "code",
   "execution_count": 61,
   "metadata": {},
   "outputs": [
    {
     "data": {
      "image/png": "[encoded data removed]",
      "text/plain": [
       "<Figure size 432x216 with 1 Axes>"
      ]
     },
     "metadata": {
      "needs_background": "light"
     },
     "output_type": "display_data"
    }
   ],
   "source": [
    "import matplotlib.pyplot as plt\n",
    "import numpy as np\n",
    "\n",
    "plt.rcParams[\"figure.figsize\"] = (6,3)\n",
    "# create data\n",
    "x = 2 * np.arange(3)\n",
    "\n",
    "ax = plt.subplot(111)\n",
    "\n",
    "width = 0.1\n",
    "\n",
    "# plot data in grouped manner of bar type\n",
    "models = list(ys.keys())\n",
    "y_v = list(ys.values())\n",
    "errs = list(err.values())\n",
    "plt.bar(x-0.4, y_v[0], width, color='grey')\n",
    "plt.bar(x-0.3, y_v[1], width, color='cyan')\n",
    "plt.bar(x-0.2, y_v[2], width, color='orange')\n",
    "plt.bar(x-0.1, y_v[3], width, color='yellow')\n",
    "plt.bar(x, y_v[4], width, color='blue')\n",
    "plt.bar(x+0.1, y_v[5], width, color='green')\n",
    "plt.bar(x+0.2, y_v[6], width, color='pink')\n",
    "plt.bar(x+0.3, y_v[7], width, color='brown')\n",
    "\n",
    "plt.errorbar(x[2]-0.42, y_v[0][2], yerr =errs[0],capsize=2,  elinewidth = 1, fmt = '-',color = 'black',)\n",
    "plt.errorbar(x[2]-0.325, y_v[1][2], yerr =errs[1],capsize=2,  elinewidth = 1, fmt = '-',color = 'black',)\n",
    "plt.errorbar(x[2]-0.2, y_v[2][2], yerr =errs[2],capsize=2,  elinewidth = 1, fmt = '-',color = 'black',)\n",
    "plt.errorbar(x[2]-0.1, y_v[3][2], yerr =errs[3],capsize=2,  elinewidth = 1, fmt = '-',color = 'black',)\n",
    "plt.errorbar(x[2], y_v[4][2], yerr =errs[4],capsize=2,  elinewidth = 1, fmt = '-',color = 'black',)\n",
    "plt.errorbar(x[2]+0.09, y_v[5][2], yerr =errs[5],capsize=2,  elinewidth = 1, fmt = '-',color = 'black',)\n",
    "plt.errorbar(x[2]+0.19, y_v[6][2], yerr =errs[6],capsize=2,  elinewidth = 1, fmt = '-',color = 'black',)\n",
    "plt.errorbar(x[2]+0.3, y_v[7][2], yerr =errs[7],capsize=2,  elinewidth = 1, fmt = '-',color = 'black',)\n",
    "\n",
    "plt.xticks(x, [\"most concrete\\n(0.80)\", \"least concrete\\n(0.58)\", \"random\\n(0.69)\"])\n",
    "plt.xlabel(\"Ground Truth Types\")\n",
    "plt.ylabel(\"Accuracy@1\")\n",
    "plt.legend(models, bbox_to_anchor=(1, 1.05))\n",
    "plt.ylim(0,21)\n",
    "plt.savefig('distribution.pdf', format='pdf', dpi=600, bbox_inches='tight')\n",
    "plt.show()"
   ]
  },
  {
   "cell_type": "code",
   "execution_count": null,
   "metadata": {},
   "outputs": [],
   "source": []
  }
 ],
 "metadata": {
  "interpreter": {
   "hash": "31f2aee4e71d21fbe5cf8b01ff0e069b9275f58929596ceb00d14d90e3e16cd6"
  },
  "kernelspec": {
   "display_name": "Python 3.6.15 64-bit",
   "language": "python",
   "name": "python3"
  },
  "language_info": {
   "codemirror_mode": {
    "name": "ipython",
    "version": 3
   },
   "file_extension": ".py",
   "mimetype": "text/x-python",
   "name": "python",
   "nbconvert_exporter": "python",
   "pygments_lexer": "ipython3",
   "version": "3.6.15"
  },
  "orig_nbformat": 4
 },
 "nbformat": 4,
 "nbformat_minor": 2
}
