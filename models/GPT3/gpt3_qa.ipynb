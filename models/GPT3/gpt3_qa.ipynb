{
 "cells": [
  {
   "cell_type": "code",
   "execution_count": 12,
   "metadata": {},
   "outputs": [],
   "source": [
    "import sys\n",
    "sys.path.insert(1, '../../model/')\n",
    "sys.path.append('/nlp/data/yueyang/prototypicality/semantic-norms-main')\n",
    "import eval\n",
    "import pickle\n",
    "from tqdm import tqdm\n",
    "from nltk.corpus import wordnet as wn\n",
    "import openai\n",
    "openai.api_key = \"<OPENAI-KEY>\""
   ]
  },
  {
   "cell_type": "code",
   "execution_count": 13,
   "metadata": {},
   "outputs": [],
   "source": [
    "DATASET = \"concept_properties\" # \"feature_norms\""
   ]
  },
  {
   "cell_type": "code",
   "execution_count": 16,
   "metadata": {},
   "outputs": [],
   "source": [
    "noun2prop = pickle.load(open(f\"../../data/datasets/{DATASET}/noun2property/noun2prop.p\", \"rb\"))"
   ]
  },
  {
   "cell_type": "code",
   "execution_count": 17,
   "metadata": {},
   "outputs": [],
   "source": [
    "candidate_adjs = []\n",
    "for noun, props in noun2prop.items():\n",
    "    candidate_adjs += props\n",
    "candidate_adjs = list(set(candidate_adjs))"
   ]
  },
  {
   "cell_type": "code",
   "execution_count": 76,
   "metadata": {},
   "outputs": [
    {
     "name": "stderr",
     "output_type": "stream",
     "text": [
      "100%|██████████| 509/509 [06:53<00:00,  1.23it/s]\n"
     ]
    }
   ],
   "source": [
    "noun2predicts = {}\n",
    "for noun in tqdm(noun2prop):\n",
    "    response = openai.Completion.create(\n",
    "        engine=\"text-davinci-001\",\n",
    "        prompt=\"Use ten adjectives to describe the properties of kiwi:\\n1. tart\\n2. acidic\\n3. sweet\\n4. juicy\\n5. smooth\\n6. fuzzy\\n7. green\\n8. brown\\n9. small\\n10. fuzzy\\nUse ten adjectives to describe the properties of {}:\\n\".format(noun),\n",
    "        temperature=0,\n",
    "        max_tokens=256,\n",
    "        top_p=1,\n",
    "        frequency_penalty=0,\n",
    "        presence_penalty=0\n",
    "    )\n",
    "    props = []\n",
    "    for raw_prop in dict(dict(response)['choices'][0])['text'].split('\\n'):\n",
    "        if len(raw_prop) >= 5 and '.' in raw_prop:\n",
    "            props.append(raw_prop.split(' ')[-1].lower())\n",
    "    noun2predicts[noun] = props"
   ]
  },
  {
   "cell_type": "code",
   "execution_count": null,
   "metadata": {},
   "outputs": [],
   "source": [
    "acc_1 = eval.evaluate_acc(noun2predicts, noun2prop, 1, True)\n",
    "acc_2 = eval.evaluate_acc(noun2predicts, noun2prop, 2, True)\n",
    "acc_3 = eval.evaluate_acc(noun2predicts, noun2prop, 3, True)\n",
    "acc_5 = eval.evaluate_acc(noun2predicts, noun2prop, 5, True)\n",
    "r_5 = eval.evaluate_recall(noun2predicts, noun2prop, 5, True)\n",
    "r_10 = eval.evaluate_recall(noun2predicts, noun2prop, 10, True)"
   ]
  },
  {
   "cell_type": "code",
   "execution_count": null,
   "metadata": {},
   "outputs": [],
   "source": []
  }
 ],
 "metadata": {
  "kernelspec": {
   "display_name": "Python 3.8.13 ('base')",
   "language": "python",
   "name": "python3"
  },
  "language_info": {
   "codemirror_mode": {
    "name": "ipython",
    "version": 3
   },
   "file_extension": ".py",
   "mimetype": "text/x-python",
   "name": "python",
   "nbconvert_exporter": "python",
   "pygments_lexer": "ipython3",
   "version": "3.8.13"
  },
  "orig_nbformat": 4,
  "vscode": {
   "interpreter": {
    "hash": "1452b780fd9fd147b4e79b0b7856474b538f4a3d1bd2a13218246f2c3cd5e36c"
   }
  }
 },
 "nbformat": 4,
 "nbformat_minor": 2
}
