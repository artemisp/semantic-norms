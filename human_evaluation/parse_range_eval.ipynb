{
  "nbformat": 4,
  "nbformat_minor": 0,
  "metadata": {
    "colab": {
      "name": "parse_range_eval.ipynb",
      "provenance": [],
      "collapsed_sections": []
    },
    "kernelspec": {
      "name": "python3",
      "display_name": "Python 3"
    },
    "language_info": {
      "name": "python"
    }
  },
  "cells": [
    {
      "cell_type": "code",
      "execution_count": null,
      "metadata": {
        "id": "MD67ykLhJzhM"
      },
      "outputs": [],
      "source": [
        "import pickle"
      ]
    },
    {
      "cell_type": "code",
      "source": [
        "import ast"
      ],
      "metadata": {
        "id": "P6IgvHpHKUPD"
      },
      "execution_count": null,
      "outputs": []
    },
    {
      "cell_type": "code",
      "source": [
        "out_dir = '/content/drive/MyDrive/human_eval/assignment_2099204_export-2'"
      ],
      "metadata": {
        "id": "dj2z9KZ8KUcy"
      },
      "execution_count": null,
      "outputs": []
    },
    {
      "cell_type": "code",
      "source": [
        "import os\n",
        "\n",
        "csv_paths = []\n",
        "for fol in os.listdir(out_dir):\n",
        "  if not os.path.isdir(os.path.join(out_dir, fol)):\n",
        "    continue\n",
        "  for c in os.listdir(os.path.join(out_dir, fol)):\n",
        "    if '.csv' in c:\n",
        "      csv_paths.append(os.path.join(out_dir, fol,c))"
      ],
      "metadata": {
        "id": "vwg1fQLPKbr6"
      },
      "execution_count": null,
      "outputs": []
    },
    {
      "cell_type": "code",
      "source": [
        "import pandas as pd"
      ],
      "metadata": {
        "id": "fwLYLJOeK64M"
      },
      "execution_count": null,
      "outputs": []
    },
    {
      "cell_type": "code",
      "source": [
        "cem = pickle.load(open('/content/drive/MyDrive/human_eval/MRD_prediction/mrd_cem.p', 'rb'))\n",
        "clip = pickle.load(open('/content/drive/MyDrive/human_eval/MRD_prediction/mrd_clip.p', 'rb'))\n",
        "gpt3 = pickle.load(open('/content/drive/MyDrive/human_eval/MRD_prediction/mrd_gpt3.p', 'rb'))\n",
        "lm = pickle.load(open('/content/drive/MyDrive/human_eval/MRD_prediction/mrd_lm.p', 'rb'))\n",
        "objects = list(cem.keys())"
      ],
      "metadata": {
        "id": "7R1_2xPmLDxF"
      },
      "execution_count": null,
      "outputs": []
    },
    {
      "cell_type": "code",
      "source": [
        "obj2control = pickle.load(open('/content/drive/MyDrive/human_eval/range_ipynb/obj2control.p', 'rb'))"
      ],
      "metadata": {
        "id": "X6Y6Y8dVJupP"
      },
      "execution_count": null,
      "outputs": []
    },
    {
      "cell_type": "code",
      "source": [
        "cem[objects[0]]"
      ],
      "metadata": {
        "id": "FDgFEbc-B6xm"
      },
      "execution_count": null,
      "outputs": []
    },
    {
      "cell_type": "code",
      "source": [
        "cem_rates = {obj: {} for obj in objects}\n",
        "cem_list = []\n",
        "clip_rates =  {obj: {} for obj in objects}\n",
        "clip_list =[]\n",
        "gpt3_rates =  {obj: {} for obj in objects}\n",
        "gpt3_list = []\n",
        "lm_rates =  {obj: {} for obj in objects}\n",
        "lm_list =[]\n",
        "\n",
        "k = 3\n",
        "failed = 0\n",
        "total = 0\n",
        "for f in csv_paths:\n",
        "  df = pd.read_csv(f, delimiter='\\t')\n",
        "  for i,row in df.iterrows():\n",
        "    try:\n",
        "      obj = row['obj']\n",
        "    except:\n",
        "      print(f)\n",
        "      break\n",
        "    vals = ast.literal_eval(row['property_values'])\n",
        "    if obj2control[obj] in vals and vals[obj2control[obj]] > 3:\n",
        "      failed+=1\n",
        "      continue\n",
        "    total += 1\n",
        "    for p,v in vals.items():\n",
        "      p = p.strip()\n",
        "      if v == 2.5:\n",
        "        continue\n",
        "      if p in cem[obj][:k]:\n",
        "        cem_list.append(v)\n",
        "        if p in cem_rates[obj]:\n",
        "          cem_rates[obj][p].append(v)\n",
        "        else:\n",
        "           cem_rates[obj][p] = [v]\n",
        "      if p in clip[obj][:k]:\n",
        "        clip_list.append(v)\n",
        "        if p in clip_rates[obj]:\n",
        "          clip_rates[obj][p].append(v)\n",
        "        else:\n",
        "          clip_rates[obj][p] = [v]\n",
        "      if p in gpt3[obj][:k]:\n",
        "        gpt3_list.append(v)\n",
        "        if p in gpt3_rates[obj]:\n",
        "          gpt3_rates[obj][p].append(v)  \n",
        "        else:\n",
        "             gpt3_rates[obj][p]= [v]\n",
        "      if p in lm[obj][:k]:\n",
        "        lm_list.append(v)\n",
        "        if p in lm_rates[obj]:\n",
        "          lm_rates[obj][p].append(v)  \n",
        "        else:\n",
        "          lm_rates[obj][p] = [v]  \n",
        "print(total)\n",
        "print(failed) \n"
      ],
      "metadata": {
        "colab": {
          "base_uri": "https://localhost:8080/"
        },
        "id": "KAoLSUUSMglJ",
        "outputId": "f17f3eb1-6dc5-4673-9d89-b3f501e726e0"
      },
      "execution_count": null,
      "outputs": [
        {
          "output_type": "stream",
          "name": "stdout",
          "text": [
            "764\n",
            "185\n"
          ]
        }
      ]
    },
    {
      "cell_type": "code",
      "source": [
        "import numpy as np\n",
        "print(np.mean(lm_list))\n",
        "print(np.mean(gpt3_list))\n",
        "print(np.mean(clip_list))\n",
        "print(np.mean(cem_list))"
      ],
      "metadata": {
        "colab": {
          "base_uri": "https://localhost:8080/"
        },
        "id": "OsY4xJnZy0ZO",
        "outputId": "a8ba03bf-3da1-4750-e209-63c8fc6df38f"
      },
      "execution_count": null,
      "outputs": [
        {
          "output_type": "stream",
          "name": "stdout",
          "text": [
            "2.278221137077084\n",
            "3.1535276073619634\n",
            "2.694066305818674\n",
            "2.7823006447234477\n"
          ]
        }
      ]
    },
    {
      "cell_type": "code",
      "source": [
        "def kendall_tau(rates):\n",
        "  annotators  = [{}, {}, {}]\n",
        "  for obj, properties in rates.items():\n",
        "    for i in range(len(annotators)):\n",
        "      annotators[i][obj] = {}\n",
        "    for p, val in properties.items():\n",
        "      # if len(val) < 3:\n",
        "      #   print(obj, p)\n",
        "      for i in range(min(3, len(val))):\n",
        "         annotators[i][obj][p] = val[i]\n",
        "  \n",
        "  annotators_order = [{}, {}, {}]\n",
        "  for i in range(len(annotators)):\n",
        "    for obj, properties in annotators[i].items():\n",
        "      for p in properties:\n",
        "        for p_ in properties:\n",
        "          if properties[p] <= properties[p_]:\n",
        "              annotators_order[i][(p, p_)] = 1\n",
        "          else:\n",
        "              annotators_order[i][(p, p_)] = -1\n",
        "\n",
        "    \n",
        "  conc = {(0,1):0, (0,2):0, (1,2):0}\n",
        "  disc = {(0,1):0, (0,2):0, (1,2):0}\n",
        "  total = len(annotators_order[0])\n",
        "  for itm in annotators_order[0].keys():\n",
        "    for i,j in [(0,1), (0,2), (1,2)]:\n",
        "      if itm in annotators_order[i] and itm in annotators_order[j]:\n",
        "        if  annotators_order[i][itm] == annotators_order[j][itm]:\n",
        "            conc[(i,j)]+=1\n",
        "        else:\n",
        "            disc[(i,j)]+=1\n",
        "  s = 0\n",
        "  for i,j in [(0,1), (0,2), (1,2)]:\n",
        "    s+=(conc[(i,j)]-disc[(i,j)])/(conc[(i,j)]+disc[(i,j)])\n",
        "  print(s/3)"
      ],
      "metadata": {
        "id": "wbR_4w4no5OB"
      },
      "execution_count": null,
      "outputs": []
    },
    {
      "cell_type": "code",
      "source": [
        "kendall_tau(gpt3_rates)"
      ],
      "metadata": {
        "colab": {
          "base_uri": "https://localhost:8080/"
        },
        "id": "IbRnMb2ksLja",
        "outputId": "780b97c6-b512-4eae-8162-a77ff1f26fc5"
      },
      "execution_count": null,
      "outputs": [
        {
          "output_type": "stream",
          "name": "stdout",
          "text": [
            "0.4059264589546128\n"
          ]
        }
      ]
    },
    {
      "cell_type": "code",
      "source": [
        "import numpy as np\n",
        "\n",
        "def mean_rates(rates):\n",
        "  obj2mean = {}\n",
        "  for obj, properties in rates.items():\n",
        "    mean = []\n",
        "    if len(properties) == 0:\n",
        "      continue\n",
        "    for p, scores in properties.items():\n",
        "      mean.append(np.mean(scores))\n",
        "    obj2mean[obj] = np.mean(mean)\n",
        "  return np.mean(list(obj2mean.values()))\n"
      ],
      "metadata": {
        "id": "z6DL40BQMn_x"
      },
      "execution_count": null,
      "outputs": []
    },
    {
      "cell_type": "code",
      "source": [
        "print(mean_rates(cem_rates))\n",
        "print(mean_rates(gpt3_rates))"
      ],
      "metadata": {
        "colab": {
          "base_uri": "https://localhost:8080/"
        },
        "id": "I2UbmSx4Mu2k",
        "outputId": "8b91bb79-bf6c-4565-a8cc-f2400ceaaec3"
      },
      "execution_count": null,
      "outputs": [
        {
          "output_type": "stream",
          "name": "stdout",
          "text": [
            "2.6833806729264476\n",
            "3.0749116586538463\n"
          ]
        }
      ]
    },
    {
      "cell_type": "code",
      "source": [
        "students =['btpokin@seas.upenn.edu', 'jiatais@seas.upenn.edu', 'yueyang1@seas.upenn.edu', 'chause@seas.upenn.edu', 'xsamore@seas.upenn.edu', 'hdejong@seas.upenn.edu', 'avivm@seas.upenn.edu', 'admaga@seas.upenn.edu', 'wiwhi@seas.upenn.edu', 'jiatais@seas.upenn.edu', 'chenmcao@seas.upenn.edu', 'wingli@seas.upenn.edu', 'zdw466@seas.upenn.edu', 'xdong46@seas.upenn.edu', 'admaga@seas.upenn.edu', 'jashshah@seas.upenn.edu', 'cnguyenc@seas.upenn.edu', 'calmard@seas.upenn.edu', 'jihongl@seas.upenn.edu']"
      ],
      "metadata": {
        "id": "O2CwZGBuFCaO"
      },
      "execution_count": null,
      "outputs": []
    },
    {
      "cell_type": "code",
      "source": [
        "len(set(students))"
      ],
      "metadata": {
        "colab": {
          "base_uri": "https://localhost:8080/"
        },
        "id": "--oozsRbjfGR",
        "outputId": "a0af51ca-5e5f-4d12-9ef9-d7da317b69c0"
      },
      "execution_count": null,
      "outputs": [
        {
          "output_type": "execute_result",
          "data": {
            "text/plain": [
              "17"
            ]
          },
          "metadata": {},
          "execution_count": 46
        }
      ]
    },
    {
      "cell_type": "code",
      "source": [
        ""
      ],
      "metadata": {
        "id": "_czP4S4Ijgua"
      },
      "execution_count": null,
      "outputs": []
    }
  ]
}