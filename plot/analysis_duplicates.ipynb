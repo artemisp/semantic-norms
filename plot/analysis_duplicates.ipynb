{
 "cells": [
  {
   "cell_type": "code",
   "execution_count": 1,
   "metadata": {},
   "outputs": [],
   "source": [
    "import pickle\n",
    "import sys\n",
    "from tqdm import tqdm\n",
    "import numpy as np\n",
    "sys.path.append('..')\n",
    "import eval\n",
    "import numpy as np\n",
    "import random"
   ]
  },
  {
   "cell_type": "code",
   "execution_count": 2,
   "metadata": {},
   "outputs": [],
   "source": [
    "dataset='feature_norms'\n",
    "noun2prop = pickle.load(open('../data/datasets/{}/noun2property/noun2prop{}.p'.format(dataset, '_test' if dataset == 'concept_properties' else ''), \"rb\"))\n",
    "gpt3_predicts = pickle.load(open(f'../output/output_{dataset}/gpt3_predicts.p', \"rb\"))\n",
    "roberta_predicts = pickle.load(open(f'../output/output_{dataset}/roberta-large+singular_generally.p', \"rb\"))\n",
    "bert_predicts = pickle.load(open(f'../output/output_{dataset}/bert-large-uncased+plural_most.p', \"rb\"))\n",
    "gpt_predicts = pickle.load(open(f'../output/output_{dataset}/gpt2-large+plural_most.p', \"rb\"))\n",
    "vilt_predicts = pickle.load(open(f'../output/output_{dataset}/vilt+plural+10.p', \"rb\"))\n",
    "clip_predicts = pickle.load(open(f'../output/output_{dataset}/clip_scores.p', \"rb\"))\n",
    "combined_predicts = pickle.load(open(f'../output/output_{dataset}/combine_scores.p', \"rb\"))\n",
    "pred_combined_predicts = pickle.load(open(f'../output/output_{dataset}/pred_combined_scores.p', \"rb\"))\n",
    "\n",
    "model2predicts = {\"BERT\": bert_predicts, \"RoBERTa\": roberta_predicts, \"GPT2\": gpt_predicts, \"GPT3\": gpt3_predicts, \"ViLT\": vilt_predicts, \"CLIP\": clip_predicts, \"CEM-Gold\": combined_predicts, 'CEM-Pred': pred_combined_predicts}"
   ]
  },
  {
   "cell_type": "code",
   "execution_count": 71,
   "metadata": {},
   "outputs": [],
   "source": [
    "def get_model2pred2nouns(k):\n",
    "    model2pred2nouns = {}\n",
    "    for model, noun2predicts in model2predicts.items():\n",
    "        pred2nouns = {}\n",
    "        for noun, pred in noun2predicts.items():\n",
    "            if tuple(pred[:k]) in pred2nouns:\n",
    "                pred2nouns[tuple(pred[:k])].append(noun)\n",
    "            else: \n",
    "                pred2nouns[tuple(pred[:k])]= [noun]\n",
    "        \n",
    "        model2pred2nouns[model] = pred2nouns\n",
    "    return model2pred2nouns\n",
    "\n",
    "dups = []\n",
    "for k in [3,4,5]:\n",
    "    dups.append(get_model2pred2nouns(k))"
   ]
  },
  {
   "cell_type": "code",
   "execution_count": 79,
   "metadata": {},
   "outputs": [],
   "source": [
    "model2dupnouns = {}\n",
    "for model in model2predicts.keys():\n",
    "    model2dupnouns[model] = []\n",
    "    for i in range(0):\n",
    "          model2dupnouns[model].append(sum([len(v) for k,v in dups[i][model].items() if len(v) > 1]))"
   ]
  },
  {
   "cell_type": "code",
   "execution_count": 76,
   "metadata": {},
   "outputs": [],
   "source": [
    "import numpy as np\n",
    "import matplotlib.pyplot as plt\n",
    "def bar_plot(ax, data, colors=None, total_width=0.8, single_width=1, legend=False):\n",
    "    \"\"\"Draws a bar plot with multiple bars per data point.\n",
    "\n",
    "    Parameters\n",
    "    ----------\n",
    "    ax : matplotlib.pyplot.axis\n",
    "        The axis we want to draw our plot on.\n",
    "\n",
    "    data: dictionary\n",
    "        A dictionary containing the data we want to plot. Keys are the names of the\n",
    "        data, the items is a list of the values.\n",
    "\n",
    "        Example:\n",
    "        data = {\n",
    "            \"x\":[1,2,3],\n",
    "            \"y\":[1,2,3],\n",
    "            \"z\":[1,2,3],\n",
    "        }\n",
    "\n",
    "    colors : array-like, optional\n",
    "        A list of colors which are used for the bars. If None, the colors\n",
    "        will be the standard matplotlib color cyle. (default: None)\n",
    "\n",
    "    total_width : float, optional, default: 0.8\n",
    "        The width of a bar group. 0.8 means that 80% of the x-axis is covered\n",
    "        by bars and 20% will be spaces between the bars.\n",
    "\n",
    "    single_width: float, optional, default: 1\n",
    "        The relative width of a single bar within a group. 1 means the bars\n",
    "        will touch eachother within a group, values less than 1 will make\n",
    "        these bars thinner.\n",
    "\n",
    "    legend: bool, optional, default: True\n",
    "        If this is set to true, a legend will be added to the axis.\n",
    "    \"\"\"\n",
    "\n",
    "    # Check if colors where provided, otherwhise use the default color cycle\n",
    "    if colors is None:\n",
    "        colors = ['grey', 'teal', 'orange', 'gold', 'blue', 'green', 'pink', 'brown']\n",
    "\n",
    "    # Number of bars per group\n",
    "    n_bars = len(data)\n",
    "\n",
    "    # The width of a single bar\n",
    "    bar_width = total_width / n_bars\n",
    "\n",
    "    # List containing handles for the drawn bars, used for the legend\n",
    "    bars = []\n",
    "\n",
    "    # Iterate over all data\n",
    "    for i, (name, values) in enumerate(data.items()):\n",
    "        # The offset in x direction of that bar\n",
    "        x_offset = (i - n_bars / 2) * bar_width + bar_width / 2\n",
    "\n",
    "        # Draw a bar for every value of that type\n",
    "        for x, y in enumerate(values):\n",
    "            bar = ax.bar(3+x + x_offset, y, width=bar_width * single_width, color=colors[i % len(colors)])\n",
    "            off = .03 if y%100 != y else 0.02\n",
    "            off = .01 if y%10 == y else off\n",
    "            ax.text(3+x + x_offset-off, y+0.14,str(np.round(y, 2)))# width=bar_width * single_width, color=colors[i % len(colors)])\n",
    "\n",
    "        # Add a handle to the last drawn bar, which we'll need for the legend\n",
    "        bars.append(bar[0])\n",
    "\n",
    "    # Draw legend if we need\n",
    "    if legend:\n",
    "        ax.legend(bars, data.keys(),ncol=len(data.keys())//2)"
   ]
  },
  {
   "cell_type": "code",
   "execution_count": 77,
   "metadata": {},
   "outputs": [],
   "source": [
    "import matplotlib\n",
    "matplotlib.rcParams['text.usetex'] = False\n",
    "import matplotlib.pyplot as plt\n",
    "csfont = {'fontname':'Times New Roman'}\n",
    "plt.rcParams.update({'font.size': 12})\n",
    "plt.rcParams[\"font.family\"] = \"Times New Roman\""
   ]
  },
  {
   "cell_type": "code",
   "execution_count": 78,
   "metadata": {},
   "outputs": [
    {
     "data": {
      "image/png": "[encoded data removed]",
      "text/plain": [
       "<Figure size 1440x360 with 1 Axes>"
      ]
     },
     "metadata": {
      "needs_background": "light"
     },
     "output_type": "display_data"
    }
   ],
   "source": [
    "fig = plt.figure(figsize=(20, 5))\n",
    "ax = fig.add_subplot(111)\n",
    "bar_plot(ax, model2dupnouns, total_width=.8, single_width=.9)\n",
    "ax.tick_params(axis='both', which='major', labelsize=21)\n",
    "plt.xticks([3, 4, 5])\n",
    "plt.xlabel(\"K\",fontsize=22)\n",
    "plt.ylabel('# nouns',fontsize=22)\n",
    "plt.title(\"Number of duplicate predictions (for different nouns) in {}\".format(\"Concept Properties-test\" if dataset == 'concept_properties' else \"Feature Norms\"))\n",
    "plt.savefig(f'duplicates_{dataset}_one_col.pdf', format='pdf', dpi=600, bbox_inches='tight')\n",
    "plt.show()"
   ]
  },
  {
   "cell_type": "code",
   "execution_count": null,
   "metadata": {},
   "outputs": [],
   "source": []
  }
 ],
 "metadata": {
  "interpreter": {
   "hash": "31f2aee4e71d21fbe5cf8b01ff0e069b9275f58929596ceb00d14d90e3e16cd6"
  },
  "kernelspec": {
   "display_name": "Python 3.6.15 64-bit",
   "language": "python",
   "name": "python3"
  },
  "language_info": {
   "codemirror_mode": {
    "name": "ipython",
    "version": 3
   },
   "file_extension": ".py",
   "mimetype": "text/x-python",
   "name": "python",
   "nbconvert_exporter": "python",
   "pygments_lexer": "ipython3",
   "version": "3.6.15"
  },
  "orig_nbformat": 4
 },
 "nbformat": 4,
 "nbformat_minor": 2
}
