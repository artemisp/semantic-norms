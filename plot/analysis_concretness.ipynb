{
 "cells": [
  {
   "cell_type": "code",
   "execution_count": 1,
   "metadata": {},
   "outputs": [],
   "source": [
    "import pickle\n",
    "import sys\n",
    "from tqdm import tqdm\n",
    "import numpy as np\n",
    "sys.path.insert(1, '../..')\n",
    "import eval\n",
    "import numpy as np\n",
    "import random"
   ]
  },
  {
   "cell_type": "code",
   "execution_count": null,
   "metadata": {},
   "outputs": [],
   "source": [
    "DATASET = \"concept_properties\" # \"feature_norms\", \"memory_colors\""
   ]
  },
  {
   "cell_type": "code",
   "execution_count": 2,
   "metadata": {},
   "outputs": [
    {
     "name": "stderr",
     "output_type": "stream",
     "text": [
      "100%|██████████| 400/400 [00:37<00:00, 10.80it/s]\n"
     ]
    }
   ],
   "source": [
    "noun2prop = pickle.load(open(f\"../data/datasets/{DATASET}/noun2property/noun2prop.p\", \"rb\"))\n",
    "gpt3_predicts = pickle.load(open(f\"../data/datasets/{DATASET}/GPT3/gpt3_predicts.txt\", \"rb\"))\n",
    "roberta_predicts = pickle.load(open(f\"../output/output_{DATASET}/roberta-large+singular_generally.p\", \"rb\"))\n",
    "bert_predicts = pickle.load(open(f\"../output/output_{DATASET}/bert-large-uncased+plural_most.p\", \"rb\"))\n",
    "clip_predicts = pickle.load(open(f\"../data/datasets/{DATASET}/CLIP/clip_scores.p\", \"rb\"))\n",
    "combined_predicts = pickle.load(open(f\"../data/datasets/{DATASET}/CEM/combine_scores.p\", \"rb\"))\n",
    "gpt_predicts = pickle.load(open(f\"../output/output_{DATASET}/gpt2-large+plural_most.p\", \"rb\"))\n",
    "candidate_adjs = []\n",
    "for noun, props in noun2prop.items():\n",
    "    candidate_adjs += props\n",
    "candidate_adjs = list(set(candidate_adjs))\n",
    "\n",
    "from difflib import SequenceMatcher\n",
    "def similar(a, b):\n",
    "    return SequenceMatcher(None, a, b).ratio()\n",
    "    \n",
    "concreteness = {w: c / 5 for w, c in pickle.load(open(\"../data/concreteness/word2concreteness.M.p\", \"rb\")).items()}\n",
    "all_words = list(concreteness.keys())\n",
    "prop2concretness = {}\n",
    "for prop in tqdm(candidate_adjs):\n",
    "    if prop in concreteness:\n",
    "        prop2concretness[prop] = concreteness[prop]\n",
    "    else:\n",
    "        sims = []\n",
    "        for word in all_words:\n",
    "            sims.append((word, similar(word, prop)))\n",
    "        sims.sort(key=lambda x: x[1], reverse=True)\n",
    "        prop2concretness[prop] = concreteness[sims[0][0]]"
   ]
  },
  {
   "cell_type": "code",
   "execution_count": 3,
   "metadata": {},
   "outputs": [],
   "source": [
    "noun2prop_most_concrete = {}\n",
    "noun2prop_least_concrete = {}\n",
    "noun2prop_random_concrete = {}\n",
    "for noun, props in noun2prop.items():\n",
    "    prop_w_concretness = [(prop, prop2concretness[prop]) for prop in props]\n",
    "    prop_w_concretness.sort(key=lambda x: x[1])\n",
    "    noun2prop_most_concrete[noun] = [prop_w_concretness[-1][0]]\n",
    "    noun2prop_least_concrete[noun] = [prop_w_concretness[0][0]]\n",
    "    noun2prop_random_concrete[noun] = [random.choice(props)]\n",
    "# noun2prop_random_concrete = pickle.load(open(\"noun2prop_random_concrete.p\", \"rb\"))"
   ]
  },
  {
   "cell_type": "code",
   "execution_count": 6,
   "metadata": {},
   "outputs": [
    {
     "name": "stdout",
     "output_type": "stream",
     "text": [
      "top1 acc:  0.04492512479201331\n",
      "top1 acc:  0.02329450915141431\n",
      "top1 acc:  0.04159733777038269\n"
     ]
    }
   ],
   "source": [
    "for noun2prop_test in [noun2prop_most_concrete, noun2prop_least_concrete, noun2prop_random_concrete]:\n",
    "    noun2predicts = bert_predicts\n",
    "    for k in [1]:\n",
    "        eval.evaluate_acc(noun2predicts, noun2prop_test, k, True)\n",
    "\n",
    "# for k in [1, 5, 10]:\n",
    "#     eval.evaluate_precision(noun2predicts, noun2prop_test, k, True)\n",
    "\n",
    "# for k in [1, 5, 10]:\n",
    "#     eval.evaluate_recall(noun2predicts, noun2prop_test, k, True)"
   ]
  },
  {
   "cell_type": "code",
   "execution_count": 64,
   "metadata": {},
   "outputs": [
    {
     "data": {
      "image/png": "[encoded data removed]",
      "text/plain": [
       "<Figure size 432x216 with 1 Axes>"
      ]
     },
     "metadata": {
      "needs_background": "light"
     },
     "output_type": "display_data"
    }
   ],
   "source": [
    "import matplotlib.pyplot as plt\n",
    "import numpy as np\n",
    "\n",
    "plt.rcParams[\"figure.figsize\"] = (6,3)\n",
    "# create data\n",
    "x = 2 * np.arange(3)\n",
    "y1 = [2.3, 3.5, 6.6]\n",
    "y2 = [4.4, 2.3, 6.7]\n",
    "y3 = [4.8, 2.7, 5.8]\n",
    "y4 = [8.9, 2.3, 5.6]\n",
    "width = 0.2\n",
    "\n",
    "plt.ylim((0, 10))  \n",
    "# plot data in grouped manner of bar type\n",
    "plt.bar(x-0.3, y1, width, color='cyan')\n",
    "plt.bar(x-0.1, y2, width, color='orange')\n",
    "plt.bar(x+0.1, y3, width, color='green')\n",
    "plt.bar(x+0.3, y4, width, color='brown')\n",
    "# plt.bar(x+0.4, y3, width, color='green')\n",
    "plt.xticks(x, [\"most concrete\", \"least concrete\", \"random\"])\n",
    "plt.xlabel(\"Ground Truth Types\")\n",
    "plt.ylabel(\"Accuracy@1\")\n",
    "plt.legend([\"RoBERTa\", \"BERT\", \"GPT2\", \"CLIP\"])\n",
    "plt.savefig('distribution.png', format='png', dpi=600, bbox_inches='tight')\n",
    "plt.show()"
   ]
  }
 ],
 "metadata": {
  "interpreter": {
   "hash": "31f2aee4e71d21fbe5cf8b01ff0e069b9275f58929596ceb00d14d90e3e16cd6"
  },
  "kernelspec": {
   "display_name": "Python 3.6.15 64-bit",
   "language": "python",
   "name": "python3"
  },
  "language_info": {
   "codemirror_mode": {
    "name": "ipython",
    "version": 3
   },
   "file_extension": ".py",
   "mimetype": "text/x-python",
   "name": "python",
   "nbconvert_exporter": "python",
   "pygments_lexer": "ipython3",
   "version": "3.6.15"
  },
  "orig_nbformat": 4
 },
 "nbformat": 4,
 "nbformat_minor": 2
}
