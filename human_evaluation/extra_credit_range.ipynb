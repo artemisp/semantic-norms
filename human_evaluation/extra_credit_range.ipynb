{
  "nbformat": 4,
  "nbformat_minor": 0,
  "metadata": {
    "colab": {
      "name": "extra_credit_range.ipynb",
      "provenance": [],
      "collapsed_sections": []
    },
    "kernelspec": {
      "name": "python3",
      "display_name": "Python 3"
    },
    "language_info": {
      "name": "python"
    }
  },
  "cells": [
    {
      "cell_type": "markdown",
      "source": [
        "# Extra Credit Assignment: Object Properties\n",
        "\n",
        "Do you want to help make progress in AI? In this research project we are examining how different models, trained in different modalities (text, images, and text+images) encode semantic properties of nouns. \n",
        "\n",
        "In this task, we give you an object and a set of properties. Your goal is to provide your opinion about to what extent each property applies on the object from a range of 0 (unlikely/impossible) to 5 (almost always)."
      ],
      "metadata": {
        "id": "scFM8tNfo8iz"
      }
    },
    {
      "cell_type": "markdown",
      "source": [
        "In order to complete this extra credit assignment, you need to go to [this](https://docs.google.com/spreadsheets/d/1hf4yS7Yr_XmzCbs51I0qBF8ymoQbysVFOWckqL-5qO8/edit?usp=sharing) Google Sheet and select a link to download a file that specifies questions you need to complete for this extra credit assignment. \n",
        "\n",
        "In the Google sheet you will see the following file. \n",
        "![](https://drive.google.com/uc?export=view&id=1AEVz7BFTbIgibTMgMJj0vCIBqvbS_7qM)\n",
        "\n",
        "You should select a split that you have not completed yourself (i.e. your name cannot be in the same row twice) and that has not been already assigned to another student. \n",
        "\n",
        "\n",
        "You will have to paste the link to the corresponding row you selected in the `<download_link>` in the cell below and run the cell. Make sure not to comment out the quotes `\"\"` around the download link. \n",
        "\n",
        "\n",
        "Once you are done you should upload the `output.csv` file on [GradeScope - Extra Credit: Object Properties](https://www.gradescope.com/courses/387969/assignments/2099204/submissions). For each split you complete (20 questions), you will get 0.2% points Extra Credit on your overall grade with a maximum of 1.0% point. \n",
        "\n",
        "\n",
        "For each question, you will be provided one object and a set of properties, and your job is to input a set of properties associated with the object and report to what extend each property applies to the object with 0 being impossible/unlikely and 5 being almost always. \n",
        "\n",
        "For example, a strawberry cannot be happy, so it should get a score of 0, whereas a strawbery being red is almost always so it should get a score of 5. \n",
        "\n",
        "**NOTE:** Some words are polysemous, i.e. they have more than one meanings. For example, 'rocket' can refer to a type of spaceship, or the British word for arugula. You should consider all possible definitions when rating the properties. \n",
        "\n",
        "\n",
        "If you encounter any issues, contact me at `artemisp@seas.upenn.edu` and I will help out!"
      ],
      "metadata": {
        "id": "YIOcNEWIo-J5"
      }
    },
    {
      "cell_type": "code",
      "source": [
        "# do not forget to chane the download_link based on the instructions above. \n",
        "!wget \"<download_link>\" -O split.p"
      ],
      "metadata": {
        "id": "NCuItFNQp8KH"
      },
      "execution_count": null,
      "outputs": []
    },
    {
      "cell_type": "code",
      "source": [
        "!wget \"https://drive.google.com/uc?export=download&id=18oK5w5jOKHS4m8bK7m1VyssOfc3CTnko\" -O obj2allprop.p"
      ],
      "metadata": {
        "id": "5-s400fIp8oX",
        "outputId": "b0fb89c5-9530-450c-ffbf-628e2b6c9185",
        "colab": {
          "base_uri": "https://localhost:8080/"
        }
      },
      "execution_count": null,
      "outputs": [
        {
          "output_type": "stream",
          "name": "stdout",
          "text": [
            "--2022-06-15 15:01:07--  https://drive.google.com/uc?export=download&id=18oK5w5jOKHS4m8bK7m1VyssOfc3CTnko\n",
            "Resolving drive.google.com (drive.google.com)... 173.194.203.138, 173.194.203.102, 173.194.203.100, ...\n",
            "Connecting to drive.google.com (drive.google.com)|173.194.203.138|:443... connected.\n",
            "HTTP request sent, awaiting response... 303 See Other\n",
            "Location: https://doc-10-0o-docs.googleusercontent.com/docs/securesc/ha0ro937gcuc7l7deffksulhg5h7mbp1/sgbfp59lagr9pbd0am1gdfa56cgonof8/1655305200000/18103525569028866725/*/18oK5w5jOKHS4m8bK7m1VyssOfc3CTnko?e=download [following]\n",
            "Warning: wildcards not supported in HTTP.\n",
            "--2022-06-15 15:01:07--  https://doc-10-0o-docs.googleusercontent.com/docs/securesc/ha0ro937gcuc7l7deffksulhg5h7mbp1/sgbfp59lagr9pbd0am1gdfa56cgonof8/1655305200000/18103525569028866725/*/18oK5w5jOKHS4m8bK7m1VyssOfc3CTnko?e=download\n",
            "Resolving doc-10-0o-docs.googleusercontent.com (doc-10-0o-docs.googleusercontent.com)... 74.125.195.132, 2607:f8b0:400e:c09::84\n",
            "Connecting to doc-10-0o-docs.googleusercontent.com (doc-10-0o-docs.googleusercontent.com)|74.125.195.132|:443... connected.\n",
            "HTTP request sent, awaiting response... 200 OK\n",
            "Length: 83911 (82K) [text/x-pascal]\n",
            "Saving to: ‘obj2allprop.p’\n",
            "\n",
            "obj2allprop.p       100%[===================>]  81.94K  --.-KB/s    in 0.001s  \n",
            "\n",
            "2022-06-15 15:01:07 (69.2 MB/s) - ‘obj2allprop.p’ saved [83911/83911]\n",
            "\n"
          ]
        }
      ]
    },
    {
      "cell_type": "code",
      "source": [
        "!wget \"https://drive.google.com/uc?export=download&id=1lD0-1LhxN-TXa3QMGXn9Uc4Zr49-mwAz\" -O obj2dict.p"
      ],
      "metadata": {
        "id": "rom7lbaR0XvG",
        "outputId": "1a4cd942-25ab-40d5-d2e9-a42ad298c23e",
        "colab": {
          "base_uri": "https://localhost:8080/"
        }
      },
      "execution_count": null,
      "outputs": [
        {
          "output_type": "stream",
          "name": "stdout",
          "text": [
            "--2022-06-15 15:01:08--  https://drive.google.com/uc?export=download&id=1lD0-1LhxN-TXa3QMGXn9Uc4Zr49-mwAz\n",
            "Resolving drive.google.com (drive.google.com)... 74.125.142.139, 74.125.142.113, 74.125.142.101, ...\n",
            "Connecting to drive.google.com (drive.google.com)|74.125.142.139|:443... connected.\n",
            "HTTP request sent, awaiting response... 303 See Other\n",
            "Location: https://doc-00-0o-docs.googleusercontent.com/docs/securesc/ha0ro937gcuc7l7deffksulhg5h7mbp1/s261a7pa5cjf89jtfhligsjpjdjm9vb3/1655305200000/18103525569028866725/*/1lD0-1LhxN-TXa3QMGXn9Uc4Zr49-mwAz?e=download [following]\n",
            "Warning: wildcards not supported in HTTP.\n",
            "--2022-06-15 15:01:08--  https://doc-00-0o-docs.googleusercontent.com/docs/securesc/ha0ro937gcuc7l7deffksulhg5h7mbp1/s261a7pa5cjf89jtfhligsjpjdjm9vb3/1655305200000/18103525569028866725/*/1lD0-1LhxN-TXa3QMGXn9Uc4Zr49-mwAz?e=download\n",
            "Resolving doc-00-0o-docs.googleusercontent.com (doc-00-0o-docs.googleusercontent.com)... 74.125.195.132, 2607:f8b0:400e:c09::84\n",
            "Connecting to doc-00-0o-docs.googleusercontent.com (doc-00-0o-docs.googleusercontent.com)|74.125.195.132|:443... connected.\n",
            "HTTP request sent, awaiting response... 200 OK\n",
            "Length: 114172 (111K) [text/x-pascal]\n",
            "Saving to: ‘obj2dict.p’\n",
            "\n",
            "obj2dict.p          100%[===================>] 111.50K  --.-KB/s    in 0.001s  \n",
            "\n",
            "2022-06-15 15:01:08 (105 MB/s) - ‘obj2dict.p’ saved [114172/114172]\n",
            "\n"
          ]
        }
      ]
    },
    {
      "cell_type": "code",
      "source": [
        "from google.colab import drive\n",
        "drive.mount('/content/drive')"
      ],
      "metadata": {
        "id": "vhdo0Nq5HdFL"
      },
      "execution_count": null,
      "outputs": []
    },
    {
      "cell_type": "code",
      "source": [
        "import panel as pn\n",
        "pn.extension()\n",
        "from panel import widgets as pnw\n",
        "import os\n",
        "import time\n",
        "from google.colab import files\n",
        "import pickle\n",
        "import random\n",
        "import pandas as pd\n",
        "\n",
        "obj2allprop = pickle.load(open('/content/obj2allprop.p', 'rb'))\n",
        "\n",
        "if False and 'output.csv' in os.listdir('/content/drive/My Drive/'):\n",
        "  output_file = pd.read_csv('/content/drive/My Drive/output.csv')\n",
        "  existing_objs = output_file['obj'].tolist()\n",
        "  output_file = open('/content/drive/My Drive/output.csv', 'w+')\n",
        "else:\n",
        "  existing_objs = []\n",
        "  output_file = open('/content/drive/My Drive/output.csv', 'w')\n",
        "  output_file.write('\\t'.join(['obj', 'property_values', 'time'])+'\\n')\n",
        "\n",
        "split_objs = pickle.load(open('/content/split.p', 'rb'))\n",
        "obj2def = pickle.load(open('/content/obj2dict.p', 'rb'))\n",
        "\n",
        "global object_index\n",
        "object_index = 0\n",
        "\n",
        "global start\n",
        "\n",
        "\n",
        "monitor = pnw.Progress(value=1, max=2*len(split_objs), bar_color=\"primary\")\n",
        "\n",
        "pbutton = pnw.Button(name='Submit', button_type='primary')\n",
        "obj = split_objs[0]\n",
        "object_text = pnw.StaticText(name='Object', value=f'{obj}', style={'font-size': \"20px\"})\n",
        "object_definition = pnw.StaticText(name='Definition(s)', value=f'{obj2def[obj]}', style={'font-size': \"12px\"})\n",
        "\n",
        "instruction_text = pnw.StaticText(name='Instruction', value='Select how often you think each property applies to the object, with 5 being almost always, and 0 unlikely/impossible.\\n', style={'font-size': \"14px\"})\n",
        "instruction_text.visible=False\n",
        "input_text = pnw.TextInput(name='Enter properties associated with the object separated by a comma', placeholder='Enter a properties here...')\n",
        "\n",
        "sliders = {i: pnw.FloatSlider(name=f'', start=0, end=5, step=0.01, value=2.5) for i in range(40)}\n",
        "\n",
        "for i,slider in sliders.items():\n",
        "  slider.visible=False\n",
        "\n",
        "\n",
        "obj = split_objs[object_index]\n",
        "\n",
        "def submit(event):\n",
        "    global object_index\n",
        "    global start\n",
        "\n",
        "    if object_index == len(split_objs)-1:\n",
        "          obj = split_objs[object_index]\n",
        "          properties = obj2allprop[obj]\n",
        "          random.shuffle(properties)\n",
        "          prop_values = {}\n",
        "          for i in range(len(properties)):\n",
        "            prop_values[sliders[i].name] = sliders[i].value\n",
        "          output_file.write('\\t'.join([obj, str(prop_values),str(time.time()-start)])+'\\n')\n",
        "\n",
        "          output_file.close()\n",
        "          files.download('/content/drive/My Drive/output.csv')\n",
        "          for i,slider in sliders.items():\n",
        "            slider.visible=False\n",
        "          input_text.visible = False\n",
        "          instruction_text.visible=False\n",
        "          object_definition.visible=False\n",
        "          object_text.visible=False\n",
        "          pbutton.visible=False\n",
        "          print(\"You are done with this split! Thank you :)\")\n",
        "          return\n",
        "    monitor.value += 1\n",
        "    if event.obj.clicks % 2 == 0:\n",
        "      ## get previous property ranges\n",
        "      if object_index >= 0:\n",
        "        \n",
        "        obj = split_objs[object_index]\n",
        "        properties = obj2allprop[obj]\n",
        "        random.shuffle(properties)\n",
        "        prop_values = {}\n",
        "        for i in range(len(properties)):\n",
        "          prop_values[sliders[i].name] = sliders[i].value\n",
        "        output_file.write('\\t'.join([obj, str(prop_values),str(time.time()-start)])+'\\n')\n",
        "\n",
        "\n",
        "      #case of inputing text\n",
        "      object_index+=1\n",
        "      obj = split_objs[object_index]\n",
        "      object_text.value = obj\n",
        "      object_definition.value = obj2def[obj]\n",
        "      input_text.value = ''\n",
        "      input_text.value_input = ''\n",
        "      input_text.visible = True\n",
        "      for i,slider in sliders.items():\n",
        "        slider.visible=False\n",
        "      instruction_text.visible=False\n",
        "      \n",
        "    else:\n",
        "      # case of range scores\n",
        "      new_properties = [p.strip() for p in input_text.value.split(',') if p.strip()!= ''][:20]\n",
        "      obj = split_objs[object_index]\n",
        "      obj2allprop[obj] += new_properties\n",
        "      obj2allprop[obj] = list(set(obj2allprop[obj]))\n",
        "      properties = obj2allprop[obj]\n",
        "      object_text.value = obj\n",
        "      num_props = len(properties)\n",
        "      input_text.visible = False\n",
        "      instruction_text.visible=True\n",
        "      for i in range(num_props):\n",
        "        sliders[i].name = f'{properties[i]}'\n",
        "        sliders[i].value = 2.5\n",
        "        sliders[i].visible=True\n",
        "      \n",
        "      for i in range(num_props, 40):\n",
        "        sliders[i].name = f''\n",
        "        sliders[i].value = 2.5\n",
        "        sliders[i].visible=False\n",
        "      start = time.time()\n",
        "      \n",
        "\n",
        "  \n",
        "pbutton.on_click(submit)\n",
        "start = time.time()\n",
        "pn.GridBox(*[monitor, '', '', object_text,'','', object_definition,'','', instruction_text,'','', input_text, '', '',] + list(sliders.values())+['','',pbutton], ncols= 3,width=1000).servable()"
      ],
      "metadata": {
        "id": "1v2-KpYhQvT4"
      },
      "execution_count": null,
      "outputs": []
    }
  ]
}